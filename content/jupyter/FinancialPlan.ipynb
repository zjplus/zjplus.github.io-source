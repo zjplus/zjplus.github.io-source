{
 "cells": [
  {
   "cell_type": "code",
   "execution_count": 1,
   "metadata": {
    "collapsed": true
   },
   "outputs": [],
   "source": [
    "import sys\n",
    "import pandas as pd\n",
    "import numpy as np\n",
    "\n",
    "from datetime import datetime\n",
    "from datetime import date\n",
    "from datetime import timedelta"
   ]
  },
  {
   "cell_type": "code",
   "execution_count": 2,
   "metadata": {
    "collapsed": true
   },
   "outputs": [],
   "source": [
    "pd.set_option('display.float_format', lambda x: '%.2f' % x)\n",
    "pd.set_option('display.max_rows',100)"
   ]
  },
  {
   "cell_type": "code",
   "execution_count": 3,
   "metadata": {
    "collapsed": true
   },
   "outputs": [],
   "source": [
    "%matplotlib inline\n",
    "import matplotlib as mpl\n",
    "import matplotlib.pyplot as plt\n",
    "\n",
    "plt.style.use('ggplot')\n",
    "plt.rcParams['figure.figsize'] = (18.0,8.0)"
   ]
  },
  {
   "cell_type": "code",
   "execution_count": 4,
   "metadata": {
    "collapsed": true
   },
   "outputs": [],
   "source": [
    "df0 = pd.read_csv('df_invest_financial_overdue.csv',encoding='utf8')"
   ]
  },
  {
   "cell_type": "code",
   "execution_count": 5,
   "metadata": {
    "collapsed": false
   },
   "outputs": [
    {
     "data": {
      "text/html": [
       "<div>\n",
       "<table border=\"1\" class=\"dataframe\">\n",
       "  <thead>\n",
       "    <tr style=\"text-align: right;\">\n",
       "      <th></th>\n",
       "      <th>FuiFinancialId</th>\n",
       "      <th>FuiFinancialInvestId</th>\n",
       "      <th>FuiInvestUid</th>\n",
       "      <th>FuiFinUserGroup</th>\n",
       "      <th>FuiFinPerids</th>\n",
       "      <th>FuiFinDuTime</th>\n",
       "      <th>FuiFinNextRepayTime</th>\n",
       "      <th>FstrFinRepayPlan</th>\n",
       "      <th>FuiInvestId</th>\n",
       "      <th>FuiNextRepayTime</th>\n",
       "      <th>...</th>\n",
       "      <th>buy_back_20170503</th>\n",
       "      <th>buy_back_20170703</th>\n",
       "      <th>buy_back_20170504</th>\n",
       "      <th>buy_back_20180118</th>\n",
       "      <th>buy_back_20180119</th>\n",
       "      <th>continue_invest_20170726</th>\n",
       "      <th>continue_invest_20170731</th>\n",
       "      <th>continue_invest_20171024</th>\n",
       "      <th>buy_back_20171102</th>\n",
       "      <th>buy_back_20171204</th>\n",
       "    </tr>\n",
       "  </thead>\n",
       "  <tbody>\n",
       "    <tr>\n",
       "      <th>0</th>\n",
       "      <td>82051058471567364</td>\n",
       "      <td>82159496732655619</td>\n",
       "      <td>50514362542866432</td>\n",
       "      <td>0</td>\n",
       "      <td>1</td>\n",
       "      <td>1509119999</td>\n",
       "      <td>1509119999</td>\n",
       "      <td>0</td>\n",
       "      <td>82159499952832517</td>\n",
       "      <td>1495641600</td>\n",
       "      <td>...</td>\n",
       "      <td>nan</td>\n",
       "      <td>nan</td>\n",
       "      <td>nan</td>\n",
       "      <td>nan</td>\n",
       "      <td>nan</td>\n",
       "      <td>nan</td>\n",
       "      <td>nan</td>\n",
       "      <td>nan</td>\n",
       "      <td>nan</td>\n",
       "      <td>nan</td>\n",
       "    </tr>\n",
       "    <tr>\n",
       "      <th>1</th>\n",
       "      <td>82051058471567364</td>\n",
       "      <td>82159496732655619</td>\n",
       "      <td>50514362542866432</td>\n",
       "      <td>0</td>\n",
       "      <td>1</td>\n",
       "      <td>1509119999</td>\n",
       "      <td>1509119999</td>\n",
       "      <td>0</td>\n",
       "      <td>82159505322590209</td>\n",
       "      <td>1495641600</td>\n",
       "      <td>...</td>\n",
       "      <td>nan</td>\n",
       "      <td>nan</td>\n",
       "      <td>nan</td>\n",
       "      <td>nan</td>\n",
       "      <td>nan</td>\n",
       "      <td>nan</td>\n",
       "      <td>nan</td>\n",
       "      <td>nan</td>\n",
       "      <td>nan</td>\n",
       "      <td>nan</td>\n",
       "    </tr>\n",
       "    <tr>\n",
       "      <th>2</th>\n",
       "      <td>82051058471567364</td>\n",
       "      <td>82159496732655619</td>\n",
       "      <td>50514362542866432</td>\n",
       "      <td>0</td>\n",
       "      <td>1</td>\n",
       "      <td>1509119999</td>\n",
       "      <td>1509119999</td>\n",
       "      <td>0</td>\n",
       "      <td>82159509617033220</td>\n",
       "      <td>1495641600</td>\n",
       "      <td>...</td>\n",
       "      <td>nan</td>\n",
       "      <td>nan</td>\n",
       "      <td>nan</td>\n",
       "      <td>nan</td>\n",
       "      <td>nan</td>\n",
       "      <td>nan</td>\n",
       "      <td>nan</td>\n",
       "      <td>nan</td>\n",
       "      <td>nan</td>\n",
       "      <td>nan</td>\n",
       "    </tr>\n",
       "    <tr>\n",
       "      <th>3</th>\n",
       "      <td>82051058471567364</td>\n",
       "      <td>82159496732655619</td>\n",
       "      <td>50514362542866432</td>\n",
       "      <td>0</td>\n",
       "      <td>1</td>\n",
       "      <td>1509119999</td>\n",
       "      <td>1509119999</td>\n",
       "      <td>0</td>\n",
       "      <td>82159527870644230</td>\n",
       "      <td>1495641600</td>\n",
       "      <td>...</td>\n",
       "      <td>nan</td>\n",
       "      <td>nan</td>\n",
       "      <td>nan</td>\n",
       "      <td>nan</td>\n",
       "      <td>nan</td>\n",
       "      <td>nan</td>\n",
       "      <td>nan</td>\n",
       "      <td>nan</td>\n",
       "      <td>nan</td>\n",
       "      <td>nan</td>\n",
       "    </tr>\n",
       "    <tr>\n",
       "      <th>4</th>\n",
       "      <td>82051058471567364</td>\n",
       "      <td>82159496732655619</td>\n",
       "      <td>50514362542866432</td>\n",
       "      <td>0</td>\n",
       "      <td>1</td>\n",
       "      <td>1509119999</td>\n",
       "      <td>1509119999</td>\n",
       "      <td>0</td>\n",
       "      <td>82159533239615489</td>\n",
       "      <td>1495641600</td>\n",
       "      <td>...</td>\n",
       "      <td>nan</td>\n",
       "      <td>nan</td>\n",
       "      <td>nan</td>\n",
       "      <td>nan</td>\n",
       "      <td>nan</td>\n",
       "      <td>nan</td>\n",
       "      <td>nan</td>\n",
       "      <td>nan</td>\n",
       "      <td>nan</td>\n",
       "      <td>nan</td>\n",
       "    </tr>\n",
       "  </tbody>\n",
       "</table>\n",
       "<p>5 rows × 151 columns</p>\n",
       "</div>"
      ],
      "text/plain": [
       "      FuiFinancialId  FuiFinancialInvestId       FuiInvestUid  \\\n",
       "0  82051058471567364     82159496732655619  50514362542866432   \n",
       "1  82051058471567364     82159496732655619  50514362542866432   \n",
       "2  82051058471567364     82159496732655619  50514362542866432   \n",
       "3  82051058471567364     82159496732655619  50514362542866432   \n",
       "4  82051058471567364     82159496732655619  50514362542866432   \n",
       "\n",
       "   FuiFinUserGroup  FuiFinPerids  FuiFinDuTime  FuiFinNextRepayTime  \\\n",
       "0                0             1    1509119999           1509119999   \n",
       "1                0             1    1509119999           1509119999   \n",
       "2                0             1    1509119999           1509119999   \n",
       "3                0             1    1509119999           1509119999   \n",
       "4                0             1    1509119999           1509119999   \n",
       "\n",
       "   FstrFinRepayPlan        FuiInvestId  FuiNextRepayTime        ...          \\\n",
       "0                 0  82159499952832517        1495641600        ...           \n",
       "1                 0  82159505322590209        1495641600        ...           \n",
       "2                 0  82159509617033220        1495641600        ...           \n",
       "3                 0  82159527870644230        1495641600        ...           \n",
       "4                 0  82159533239615489        1495641600        ...           \n",
       "\n",
       "   buy_back_20170503  buy_back_20170703  buy_back_20170504  buy_back_20180118  \\\n",
       "0                nan                nan                nan                nan   \n",
       "1                nan                nan                nan                nan   \n",
       "2                nan                nan                nan                nan   \n",
       "3                nan                nan                nan                nan   \n",
       "4                nan                nan                nan                nan   \n",
       "\n",
       "   buy_back_20180119  continue_invest_20170726  continue_invest_20170731  \\\n",
       "0                nan                       nan                       nan   \n",
       "1                nan                       nan                       nan   \n",
       "2                nan                       nan                       nan   \n",
       "3                nan                       nan                       nan   \n",
       "4                nan                       nan                       nan   \n",
       "\n",
       "   continue_invest_20171024  buy_back_20171102  buy_back_20171204  \n",
       "0                       nan                nan                nan  \n",
       "1                       nan                nan                nan  \n",
       "2                       nan                nan                nan  \n",
       "3                       nan                nan                nan  \n",
       "4                       nan                nan                nan  \n",
       "\n",
       "[5 rows x 151 columns]"
      ]
     },
     "execution_count": 5,
     "metadata": {},
     "output_type": "execute_result"
    }
   ],
   "source": [
    "df0.head()"
   ]
  },
  {
   "cell_type": "code",
   "execution_count": 11,
   "metadata": {
    "collapsed": false
   },
   "outputs": [
    {
     "data": {
      "text/plain": [
       "Index(['FuiFinancialId', 'FuiFinancialInvestId', 'FuiInvestUid',\n",
       "       'FuiFinUserGroup', 'FuiFinPerids', 'FuiFinDuTime',\n",
       "       'FuiFinNextRepayTime', 'FstrFinRepayPlan', 'FuiInvestId',\n",
       "       'FuiNextRepayTime', 'FuiNextRepayPrincipal', 'FuiNextRepayInterest',\n",
       "       'FuiToRepayPrincipal', 'FuiRepayDate', 'FuiPeriods', 'FuiCurrentPeriod',\n",
       "       'FuiType', 'FuiRepayOverdueType', 'continue_invest_20170506',\n",
       "       'buy_back_20170506', 'continue_invest_20170507', 'buy_back_20170507',\n",
       "       'continue_invest_20170508', 'buy_back_20170508',\n",
       "       'continue_invest_20170509', 'buy_back_20170509'],\n",
       "      dtype='object')"
      ]
     },
     "execution_count": 11,
     "metadata": {},
     "output_type": "execute_result"
    }
   ],
   "source": [
    "df0.columns[:26]"
   ]
  },
  {
   "cell_type": "code",
   "execution_count": 12,
   "metadata": {
    "collapsed": false
   },
   "outputs": [],
   "source": [
    "df1 = df0.iloc[:,:26]"
   ]
  },
  {
   "cell_type": "code",
   "execution_count": 13,
   "metadata": {
    "collapsed": false
   },
   "outputs": [
    {
     "data": {
      "text/plain": [
       "(614107, 26)"
      ]
     },
     "execution_count": 13,
     "metadata": {},
     "output_type": "execute_result"
    }
   ],
   "source": [
    "df1.shape"
   ]
  },
  {
   "cell_type": "code",
   "execution_count": 15,
   "metadata": {
    "collapsed": false
   },
   "outputs": [
    {
     "data": {
      "text/html": [
       "<div>\n",
       "<table border=\"1\" class=\"dataframe\">\n",
       "  <thead>\n",
       "    <tr style=\"text-align: right;\">\n",
       "      <th></th>\n",
       "      <th>FuiFinancialId</th>\n",
       "      <th>FuiFinancialInvestId</th>\n",
       "      <th>FuiInvestUid</th>\n",
       "      <th>FuiFinUserGroup</th>\n",
       "      <th>FuiFinPerids</th>\n",
       "      <th>FuiFinDuTime</th>\n",
       "      <th>FuiFinNextRepayTime</th>\n",
       "      <th>FstrFinRepayPlan</th>\n",
       "      <th>FuiInvestId</th>\n",
       "      <th>FuiNextRepayTime</th>\n",
       "      <th>...</th>\n",
       "      <th>FuiType</th>\n",
       "      <th>FuiRepayOverdueType</th>\n",
       "      <th>continue_invest_20170506</th>\n",
       "      <th>buy_back_20170506</th>\n",
       "      <th>continue_invest_20170507</th>\n",
       "      <th>buy_back_20170507</th>\n",
       "      <th>continue_invest_20170508</th>\n",
       "      <th>buy_back_20170508</th>\n",
       "      <th>continue_invest_20170509</th>\n",
       "      <th>buy_back_20170509</th>\n",
       "    </tr>\n",
       "  </thead>\n",
       "  <tbody>\n",
       "    <tr>\n",
       "      <th>0</th>\n",
       "      <td>82051058471567364</td>\n",
       "      <td>82159496732655619</td>\n",
       "      <td>50514362542866432</td>\n",
       "      <td>0</td>\n",
       "      <td>1</td>\n",
       "      <td>1509119999</td>\n",
       "      <td>1509119999</td>\n",
       "      <td>0</td>\n",
       "      <td>82159499952832517</td>\n",
       "      <td>1495641600</td>\n",
       "      <td>...</td>\n",
       "      <td>26</td>\n",
       "      <td>0</td>\n",
       "      <td>0</td>\n",
       "      <td>0</td>\n",
       "      <td>0</td>\n",
       "      <td>0</td>\n",
       "      <td>0</td>\n",
       "      <td>0</td>\n",
       "      <td>0</td>\n",
       "      <td>0</td>\n",
       "    </tr>\n",
       "    <tr>\n",
       "      <th>1</th>\n",
       "      <td>82051058471567364</td>\n",
       "      <td>82159496732655619</td>\n",
       "      <td>50514362542866432</td>\n",
       "      <td>0</td>\n",
       "      <td>1</td>\n",
       "      <td>1509119999</td>\n",
       "      <td>1509119999</td>\n",
       "      <td>0</td>\n",
       "      <td>82159505322590209</td>\n",
       "      <td>1495641600</td>\n",
       "      <td>...</td>\n",
       "      <td>26</td>\n",
       "      <td>0</td>\n",
       "      <td>0</td>\n",
       "      <td>0</td>\n",
       "      <td>0</td>\n",
       "      <td>0</td>\n",
       "      <td>0</td>\n",
       "      <td>0</td>\n",
       "      <td>0</td>\n",
       "      <td>0</td>\n",
       "    </tr>\n",
       "    <tr>\n",
       "      <th>2</th>\n",
       "      <td>82051058471567364</td>\n",
       "      <td>82159496732655619</td>\n",
       "      <td>50514362542866432</td>\n",
       "      <td>0</td>\n",
       "      <td>1</td>\n",
       "      <td>1509119999</td>\n",
       "      <td>1509119999</td>\n",
       "      <td>0</td>\n",
       "      <td>82159509617033220</td>\n",
       "      <td>1495641600</td>\n",
       "      <td>...</td>\n",
       "      <td>26</td>\n",
       "      <td>0</td>\n",
       "      <td>0</td>\n",
       "      <td>0</td>\n",
       "      <td>0</td>\n",
       "      <td>0</td>\n",
       "      <td>0</td>\n",
       "      <td>0</td>\n",
       "      <td>0</td>\n",
       "      <td>0</td>\n",
       "    </tr>\n",
       "    <tr>\n",
       "      <th>3</th>\n",
       "      <td>82051058471567364</td>\n",
       "      <td>82159496732655619</td>\n",
       "      <td>50514362542866432</td>\n",
       "      <td>0</td>\n",
       "      <td>1</td>\n",
       "      <td>1509119999</td>\n",
       "      <td>1509119999</td>\n",
       "      <td>0</td>\n",
       "      <td>82159527870644230</td>\n",
       "      <td>1495641600</td>\n",
       "      <td>...</td>\n",
       "      <td>26</td>\n",
       "      <td>0</td>\n",
       "      <td>0</td>\n",
       "      <td>0</td>\n",
       "      <td>0</td>\n",
       "      <td>0</td>\n",
       "      <td>0</td>\n",
       "      <td>0</td>\n",
       "      <td>0</td>\n",
       "      <td>0</td>\n",
       "    </tr>\n",
       "    <tr>\n",
       "      <th>4</th>\n",
       "      <td>82051058471567364</td>\n",
       "      <td>82159496732655619</td>\n",
       "      <td>50514362542866432</td>\n",
       "      <td>0</td>\n",
       "      <td>1</td>\n",
       "      <td>1509119999</td>\n",
       "      <td>1509119999</td>\n",
       "      <td>0</td>\n",
       "      <td>82159533239615489</td>\n",
       "      <td>1495641600</td>\n",
       "      <td>...</td>\n",
       "      <td>26</td>\n",
       "      <td>0</td>\n",
       "      <td>0</td>\n",
       "      <td>0</td>\n",
       "      <td>0</td>\n",
       "      <td>0</td>\n",
       "      <td>0</td>\n",
       "      <td>0</td>\n",
       "      <td>0</td>\n",
       "      <td>0</td>\n",
       "    </tr>\n",
       "  </tbody>\n",
       "</table>\n",
       "<p>5 rows × 26 columns</p>\n",
       "</div>"
      ],
      "text/plain": [
       "      FuiFinancialId  FuiFinancialInvestId       FuiInvestUid  \\\n",
       "0  82051058471567364     82159496732655619  50514362542866432   \n",
       "1  82051058471567364     82159496732655619  50514362542866432   \n",
       "2  82051058471567364     82159496732655619  50514362542866432   \n",
       "3  82051058471567364     82159496732655619  50514362542866432   \n",
       "4  82051058471567364     82159496732655619  50514362542866432   \n",
       "\n",
       "   FuiFinUserGroup  FuiFinPerids  FuiFinDuTime  FuiFinNextRepayTime  \\\n",
       "0                0             1    1509119999           1509119999   \n",
       "1                0             1    1509119999           1509119999   \n",
       "2                0             1    1509119999           1509119999   \n",
       "3                0             1    1509119999           1509119999   \n",
       "4                0             1    1509119999           1509119999   \n",
       "\n",
       "   FstrFinRepayPlan        FuiInvestId  FuiNextRepayTime        ...          \\\n",
       "0                 0  82159499952832517        1495641600        ...           \n",
       "1                 0  82159505322590209        1495641600        ...           \n",
       "2                 0  82159509617033220        1495641600        ...           \n",
       "3                 0  82159527870644230        1495641600        ...           \n",
       "4                 0  82159533239615489        1495641600        ...           \n",
       "\n",
       "   FuiType  FuiRepayOverdueType  continue_invest_20170506  buy_back_20170506  \\\n",
       "0       26                    0                         0                  0   \n",
       "1       26                    0                         0                  0   \n",
       "2       26                    0                         0                  0   \n",
       "3       26                    0                         0                  0   \n",
       "4       26                    0                         0                  0   \n",
       "\n",
       "   continue_invest_20170507  buy_back_20170507  continue_invest_20170508  \\\n",
       "0                         0                  0                         0   \n",
       "1                         0                  0                         0   \n",
       "2                         0                  0                         0   \n",
       "3                         0                  0                         0   \n",
       "4                         0                  0                         0   \n",
       "\n",
       "   buy_back_20170508  continue_invest_20170509  buy_back_20170509  \n",
       "0                  0                         0                  0  \n",
       "1                  0                         0                  0  \n",
       "2                  0                         0                  0  \n",
       "3                  0                         0                  0  \n",
       "4                  0                         0                  0  \n",
       "\n",
       "[5 rows x 26 columns]"
      ]
     },
     "execution_count": 15,
     "metadata": {},
     "output_type": "execute_result"
    }
   ],
   "source": [
    "df1.head()"
   ]
  },
  {
   "cell_type": "code",
   "execution_count": 16,
   "metadata": {
    "collapsed": false
   },
   "outputs": [
    {
     "data": {
      "text/plain": [
       "22219878848"
      ]
     },
     "execution_count": 16,
     "metadata": {},
     "output_type": "execute_result"
    }
   ],
   "source": [
    "df1.buy_back_20170509.sum()"
   ]
  },
  {
   "cell_type": "code",
   "execution_count": 18,
   "metadata": {
    "collapsed": false
   },
   "outputs": [],
   "source": [
    "df2 = df1[df1.buy_back_20170509 > 0]"
   ]
  },
  {
   "cell_type": "code",
   "execution_count": 19,
   "metadata": {
    "collapsed": false
   },
   "outputs": [
    {
     "data": {
      "text/html": [
       "<div>\n",
       "<table border=\"1\" class=\"dataframe\">\n",
       "  <thead>\n",
       "    <tr style=\"text-align: right;\">\n",
       "      <th></th>\n",
       "      <th>FuiFinancialId</th>\n",
       "      <th>FuiFinancialInvestId</th>\n",
       "      <th>FuiInvestUid</th>\n",
       "      <th>FuiFinUserGroup</th>\n",
       "      <th>FuiFinPerids</th>\n",
       "      <th>FuiFinDuTime</th>\n",
       "      <th>FuiFinNextRepayTime</th>\n",
       "      <th>FstrFinRepayPlan</th>\n",
       "      <th>FuiInvestId</th>\n",
       "      <th>FuiNextRepayTime</th>\n",
       "      <th>...</th>\n",
       "      <th>FuiType</th>\n",
       "      <th>FuiRepayOverdueType</th>\n",
       "      <th>continue_invest_20170506</th>\n",
       "      <th>buy_back_20170506</th>\n",
       "      <th>continue_invest_20170507</th>\n",
       "      <th>buy_back_20170507</th>\n",
       "      <th>continue_invest_20170508</th>\n",
       "      <th>buy_back_20170508</th>\n",
       "      <th>continue_invest_20170509</th>\n",
       "      <th>buy_back_20170509</th>\n",
       "    </tr>\n",
       "  </thead>\n",
       "  <tbody>\n",
       "    <tr>\n",
       "      <th>35</th>\n",
       "      <td>82631280635969544</td>\n",
       "      <td>83008387354247174</td>\n",
       "      <td>60737688764956674</td>\n",
       "      <td>0</td>\n",
       "      <td>1</td>\n",
       "      <td>1494345599</td>\n",
       "      <td>1494345599</td>\n",
       "      <td>3090246575</td>\n",
       "      <td>94421752916525065</td>\n",
       "      <td>1496592000</td>\n",
       "      <td>...</td>\n",
       "      <td>26</td>\n",
       "      <td>0</td>\n",
       "      <td>0</td>\n",
       "      <td>0</td>\n",
       "      <td>0</td>\n",
       "      <td>0</td>\n",
       "      <td>0</td>\n",
       "      <td>0</td>\n",
       "      <td>0</td>\n",
       "      <td>130000000</td>\n",
       "    </tr>\n",
       "    <tr>\n",
       "      <th>36</th>\n",
       "      <td>82631280635969544</td>\n",
       "      <td>83008387354247174</td>\n",
       "      <td>60737688764956674</td>\n",
       "      <td>0</td>\n",
       "      <td>1</td>\n",
       "      <td>1494345599</td>\n",
       "      <td>1494345599</td>\n",
       "      <td>3090246575</td>\n",
       "      <td>94421753990529029</td>\n",
       "      <td>1496592000</td>\n",
       "      <td>...</td>\n",
       "      <td>26</td>\n",
       "      <td>0</td>\n",
       "      <td>0</td>\n",
       "      <td>0</td>\n",
       "      <td>0</td>\n",
       "      <td>0</td>\n",
       "      <td>0</td>\n",
       "      <td>0</td>\n",
       "      <td>0</td>\n",
       "      <td>80000000</td>\n",
       "    </tr>\n",
       "    <tr>\n",
       "      <th>37</th>\n",
       "      <td>82631280635969544</td>\n",
       "      <td>83008387354247174</td>\n",
       "      <td>60737688764956674</td>\n",
       "      <td>0</td>\n",
       "      <td>1</td>\n",
       "      <td>1494345599</td>\n",
       "      <td>1494345599</td>\n",
       "      <td>3090246575</td>\n",
       "      <td>94421755063746564</td>\n",
       "      <td>1496592000</td>\n",
       "      <td>...</td>\n",
       "      <td>26</td>\n",
       "      <td>0</td>\n",
       "      <td>0</td>\n",
       "      <td>0</td>\n",
       "      <td>0</td>\n",
       "      <td>0</td>\n",
       "      <td>0</td>\n",
       "      <td>0</td>\n",
       "      <td>0</td>\n",
       "      <td>250000000</td>\n",
       "    </tr>\n",
       "    <tr>\n",
       "      <th>38</th>\n",
       "      <td>82631280635969544</td>\n",
       "      <td>83008387354247174</td>\n",
       "      <td>60737688764956674</td>\n",
       "      <td>0</td>\n",
       "      <td>1</td>\n",
       "      <td>1494345599</td>\n",
       "      <td>1494345599</td>\n",
       "      <td>3090246575</td>\n",
       "      <td>94422607614754820</td>\n",
       "      <td>1496592000</td>\n",
       "      <td>...</td>\n",
       "      <td>26</td>\n",
       "      <td>0</td>\n",
       "      <td>0</td>\n",
       "      <td>0</td>\n",
       "      <td>0</td>\n",
       "      <td>0</td>\n",
       "      <td>0</td>\n",
       "      <td>0</td>\n",
       "      <td>0</td>\n",
       "      <td>75000000</td>\n",
       "    </tr>\n",
       "    <tr>\n",
       "      <th>39</th>\n",
       "      <td>82631280635969544</td>\n",
       "      <td>83008387354247174</td>\n",
       "      <td>60737688764956674</td>\n",
       "      <td>0</td>\n",
       "      <td>1</td>\n",
       "      <td>1494345599</td>\n",
       "      <td>1494345599</td>\n",
       "      <td>3090246575</td>\n",
       "      <td>94579824892100608</td>\n",
       "      <td>1496592000</td>\n",
       "      <td>...</td>\n",
       "      <td>26</td>\n",
       "      <td>0</td>\n",
       "      <td>0</td>\n",
       "      <td>0</td>\n",
       "      <td>0</td>\n",
       "      <td>0</td>\n",
       "      <td>0</td>\n",
       "      <td>0</td>\n",
       "      <td>0</td>\n",
       "      <td>400000000</td>\n",
       "    </tr>\n",
       "  </tbody>\n",
       "</table>\n",
       "<p>5 rows × 26 columns</p>\n",
       "</div>"
      ],
      "text/plain": [
       "       FuiFinancialId  FuiFinancialInvestId       FuiInvestUid  \\\n",
       "35  82631280635969544     83008387354247174  60737688764956674   \n",
       "36  82631280635969544     83008387354247174  60737688764956674   \n",
       "37  82631280635969544     83008387354247174  60737688764956674   \n",
       "38  82631280635969544     83008387354247174  60737688764956674   \n",
       "39  82631280635969544     83008387354247174  60737688764956674   \n",
       "\n",
       "    FuiFinUserGroup  FuiFinPerids  FuiFinDuTime  FuiFinNextRepayTime  \\\n",
       "35                0             1    1494345599           1494345599   \n",
       "36                0             1    1494345599           1494345599   \n",
       "37                0             1    1494345599           1494345599   \n",
       "38                0             1    1494345599           1494345599   \n",
       "39                0             1    1494345599           1494345599   \n",
       "\n",
       "    FstrFinRepayPlan        FuiInvestId  FuiNextRepayTime        ...          \\\n",
       "35        3090246575  94421752916525065        1496592000        ...           \n",
       "36        3090246575  94421753990529029        1496592000        ...           \n",
       "37        3090246575  94421755063746564        1496592000        ...           \n",
       "38        3090246575  94422607614754820        1496592000        ...           \n",
       "39        3090246575  94579824892100608        1496592000        ...           \n",
       "\n",
       "    FuiType  FuiRepayOverdueType  continue_invest_20170506  buy_back_20170506  \\\n",
       "35       26                    0                         0                  0   \n",
       "36       26                    0                         0                  0   \n",
       "37       26                    0                         0                  0   \n",
       "38       26                    0                         0                  0   \n",
       "39       26                    0                         0                  0   \n",
       "\n",
       "    continue_invest_20170507  buy_back_20170507  continue_invest_20170508  \\\n",
       "35                         0                  0                         0   \n",
       "36                         0                  0                         0   \n",
       "37                         0                  0                         0   \n",
       "38                         0                  0                         0   \n",
       "39                         0                  0                         0   \n",
       "\n",
       "    buy_back_20170508  continue_invest_20170509  buy_back_20170509  \n",
       "35                  0                         0          130000000  \n",
       "36                  0                         0           80000000  \n",
       "37                  0                         0          250000000  \n",
       "38                  0                         0           75000000  \n",
       "39                  0                         0          400000000  \n",
       "\n",
       "[5 rows x 26 columns]"
      ]
     },
     "execution_count": 19,
     "metadata": {},
     "output_type": "execute_result"
    }
   ],
   "source": [
    "df2.head()"
   ]
  },
  {
   "cell_type": "code",
   "execution_count": 21,
   "metadata": {
    "collapsed": false
   },
   "outputs": [
    {
     "data": {
      "text/plain": [
       "array([1494345599, 1497023999, 1520611199, 1494431999, 1494518399,\n",
       "       1494604799, 1494691199, 1494777599, 1494863999])"
      ]
     },
     "execution_count": 21,
     "metadata": {},
     "output_type": "execute_result"
    }
   ],
   "source": [
    "df2.FuiFinDuTime.unique()"
   ]
  },
  {
   "cell_type": "code",
   "execution_count": 22,
   "metadata": {
    "collapsed": false
   },
   "outputs": [
    {
     "data": {
      "text/plain": [
       "FuiFinDuTime\n",
       "1494345599     2492405480\n",
       "1494431999       27633423\n",
       "1494518399         262658\n",
       "1494604799       51141945\n",
       "1494691199         961635\n",
       "1494777599        2155280\n",
       "1494863999        1317911\n",
       "1497023999            516\n",
       "1520611199    19644000000\n",
       "Name: buy_back_20170509, dtype: int64"
      ]
     },
     "execution_count": 22,
     "metadata": {},
     "output_type": "execute_result"
    }
   ],
   "source": [
    "df2.groupby(['FuiFinDuTime'])['buy_back_20170509'].sum()"
   ]
  },
  {
   "cell_type": "code",
   "execution_count": 28,
   "metadata": {
    "collapsed": false
   },
   "outputs": [
    {
     "data": {
      "text/plain": [
       "FuiFinancialId              94041524834435078\n",
       "FuiFinancialInvestId        94043728152936453\n",
       "FuiInvestUid                93371163117895682\n",
       "FuiFinUserGroup                             1\n",
       "FuiFinPerids                               12\n",
       "FuiFinDuTime                       1520611199\n",
       "FuiFinNextRepayTime                1494259200\n",
       "FstrFinRepayPlan                     12000000\n",
       "FuiInvestId                 94043732443447305\n",
       "FuiNextRepayTime                   1496592000\n",
       "FuiNextRepayPrincipal                       0\n",
       "FuiNextRepayInterest                   240500\n",
       "FuiToRepayPrincipal                  37000000\n",
       "FuiRepayDate                       1515167999\n",
       "FuiPeriods                                 10\n",
       "FuiCurrentPeriod                            3\n",
       "FuiType                                    26\n",
       "FuiRepayOverdueType                         0\n",
       "continue_invest_20170506                    0\n",
       "buy_back_20170506                           0\n",
       "continue_invest_20170507                    0\n",
       "buy_back_20170507                           0\n",
       "continue_invest_20170508                    0\n",
       "buy_back_20170508                           0\n",
       "continue_invest_20170509                    0\n",
       "buy_back_20170509                    12000000\n",
       "Name: 396, dtype: int64"
      ]
     },
     "execution_count": 28,
     "metadata": {},
     "output_type": "execute_result"
    }
   ],
   "source": [
    "df2[df2.FuiFinDuTime == 1520611199].ix[396]"
   ]
  },
  {
   "cell_type": "code",
   "execution_count": 30,
   "metadata": {
    "collapsed": false
   },
   "outputs": [
    {
     "data": {
      "text/plain": [
       "array([94041524834435078, 94043509105131521, 94041623619731458,\n",
       "       94043792577953792, 94045483721326598])"
      ]
     },
     "execution_count": 30,
     "metadata": {},
     "output_type": "execute_result"
    }
   ],
   "source": [
    "df2[df2.FuiFinDuTime == 1520611199]['FuiFinancialId'].unique()"
   ]
  },
  {
   "cell_type": "code",
   "execution_count": 31,
   "metadata": {
    "collapsed": false
   },
   "outputs": [
    {
     "data": {
      "text/plain": [
       "array([94041524834435078, 94043509105131521, 94041623619731458,\n",
       "       94043792577953792, 94045483721326598])"
      ]
     },
     "execution_count": 31,
     "metadata": {},
     "output_type": "execute_result"
    }
   ],
   "source": [
    "df2[df2.FstrFinRepayPlan == 12000000]['FuiFinancialId'].unique()"
   ]
  },
  {
   "cell_type": "code",
   "execution_count": null,
   "metadata": {
    "collapsed": true
   },
   "outputs": [],
   "source": [
    ""
   ]
  }
 ],
 "metadata": {
  "kernelspec": {
   "display_name": "Python 3",
   "language": "python",
   "name": "python3"
  },
  "language_info": {
   "codemirror_mode": {
    "name": "ipython",
    "version": 3.0
   },
   "file_extension": ".py",
   "mimetype": "text/x-python",
   "name": "python",
   "nbconvert_exporter": "python",
   "pygments_lexer": "ipython3",
   "version": "3.6.0"
  }
 },
 "nbformat": 4,
 "nbformat_minor": 0
}